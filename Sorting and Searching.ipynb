{
 "cells": [
  {
   "cell_type": "markdown",
   "id": "11631f9f-90f6-4b5a-91a7-1a802c1bca80",
   "metadata": {},
   "source": [
    "Problem 1 :\n",
    "Intersection of Two Sorted Arrays\n",
    "Write a Python program to find the intersection of two sorted arrays.\n",
    "Input:\n",
    "A = [1, 3, 5, 7, 9]\n",
    "B = [2, 4, 5, 8]\n",
    "Output:\n",
    "Intersection: [5]"
   ]
  },
  {
   "cell_type": "code",
   "execution_count": 3,
   "id": "28671aaa-6aad-4130-aa37-069c2a325e40",
   "metadata": {},
   "outputs": [
    {
     "name": "stdout",
     "output_type": "stream",
     "text": [
      "1 2 3 4 5 7 8 9 "
     ]
    }
   ],
   "source": [
    "def Unionarray(arr1, arr2, n, m):\n",
    "    # Create a set to store unique elements from both arrays\n",
    "    set1 = set(arr1)\n",
    "    set2 = set(arr2)\n",
    "    # Merge both sets and convert back to list\n",
    "    result = list(set1.union(set2))\n",
    "    return result\n",
    "   \n",
    "# Driver code\n",
    "if __name__ == \"__main__\":\n",
    "    arr1 = [1,3,5,7,9]\n",
    "    arr2 = [2,4,5,8]\n",
    "    n = len(arr1)\n",
    "    m = len(arr2)\n",
    "   \n",
    "    # Function call\n",
    "    uni = Unionarray(arr1, arr2, n, m)\n",
    "    for i in uni:\n",
    "        print(i, end=\" \")"
   ]
  },
  {
   "cell_type": "markdown",
   "id": "4470e021-262d-45b2-8529-078ff6c4fa52",
   "metadata": {},
   "source": [
    "Problem 2 :\n",
    "Find the Kth Smallest Element\n",
    "Write a Python function to find the kth smallest element in an unsorted list.\n",
    "Input:\n",
    "[12, 3, 1, 7, 8, 20], k = 3\n",
    "Output:\n",
    "The 3rd smallest element is 7"
   ]
  },
  {
   "cell_type": "code",
   "execution_count": 4,
   "id": "a264141a-aacf-4e44-b3af-8631b8d9f370",
   "metadata": {},
   "outputs": [
    {
     "name": "stdout",
     "output_type": "stream",
     "text": [
      "K'th smallest element is 5\n"
     ]
    }
   ],
   "source": [
    "def kthSmallest(arr, N, K):\n",
    " \n",
    "    # Sort the given array\n",
    "    arr.sort()\n",
    " \n",
    "    # Return k'th element in the\n",
    "    # sorted array\n",
    "    return arr[K-1]\n",
    " \n",
    " \n",
    "# Driver code\n",
    "if __name__ == '__main__':\n",
    "    arr = [12, 3, 5, 7, 19]\n",
    "    N = len(arr)\n",
    "    K = 2\n",
    " \n",
    "    # Function call\n",
    "    print(\"K'th smallest element is\",\n",
    "          kthSmallest(arr, N, K))"
   ]
  },
  {
   "cell_type": "markdown",
   "id": "3f085569-a207-4c65-ba5e-8e2f85196d1d",
   "metadata": {},
   "source": [
    "Problem 3 :\n",
    "Binary Search in a Rotated Sorted Array\n",
    "Implement a Python program to perform a binary search on a rotated sorted array.\n",
    "Input:\n",
    "[4, 5, 6, 7, 8, 9, 1, 2, 3], 6\n",
    "Output:\n",
    "Element 6 found at index 2"
   ]
  },
  {
   "cell_type": "code",
   "execution_count": 5,
   "id": "807a7742-202d-406b-bb7b-a9dacbec2f70",
   "metadata": {},
   "outputs": [
    {
     "name": "stdout",
     "output_type": "stream",
     "text": [
      "2\n"
     ]
    }
   ],
   "source": [
    "def countRotations(arr, n): \n",
    "  \n",
    "    # We basically find index \n",
    "    # of minimum element \n",
    "    min = arr[0] \n",
    "    min_index = 0\n",
    "    for i in range(0, n): \n",
    "      \n",
    "        if (min > arr[i]): \n",
    "          \n",
    "            min = arr[i] \n",
    "            min_index = i \n",
    "          \n",
    "    return min_index; \n",
    "  \n",
    "  \n",
    "# Driver code \n",
    "arr = [15, 18, 2, 3, 6, 12] \n",
    "n = len(arr) \n",
    "print(countRotations(arr, n)) "
   ]
  },
  {
   "cell_type": "markdown",
   "id": "2f4ed09e-315f-4f30-a072-114c8613ce56",
   "metadata": {},
   "source": [
    "Problem 4 :\n",
    "Searching in a Matrix\n",
    "Write a Python program that searches for a given element in a 2D matrix and returns its position.\n",
    "Input:\n",
    "Matrix = [\n",
    "[1, 3, 5],\n",
    "[7, 9, 11],\n",
    "[13, 15, 17]\n",
    "]\n",
    "Element = 11\n",
    "\n",
    "Output:\n",
    "Element 11 found at position (1, 2)"
   ]
  },
  {
   "cell_type": "code",
   "execution_count": 6,
   "id": "f08fa50d-917e-442b-9ab5-00e770305a1e",
   "metadata": {},
   "outputs": [
    {
     "name": "stdout",
     "output_type": "stream",
     "text": [
      "Found at ( 1 , 4 )\n",
      "This is how we can found using mapping: \n",
      "( 1 , 4 )\n"
     ]
    }
   ],
   "source": [
    "n = 4 # no. of rows\n",
    "m = 5 # no. of columns\n",
    "a = [[0, 6, 8, 9, 11],\n",
    "     [20, 22, 28, 29, 31],\n",
    "     [36, 38, 50, 61, 63],\n",
    "     [64, 66, 100, 122, 128]]\n",
    " \n",
    "k = 31 # element to search\n",
    "mp = {}\n",
    " \n",
    "for i in range(n):\n",
    "    for j in range(m):\n",
    "        if(k==a[i][j]):\n",
    "            print(\"Found at (\", i, \",\", j, \")\")\n",
    "             \n",
    "    mp[a[i][j]] = [i, j]\n",
    " \n",
    "     \n",
    "if k in mp:\n",
    "  # cout<<\"(\"<<mp[k]<<\",)\"<<endl;\n",
    "  print(\"This is how we can found using mapping: \")\n",
    "  print(\"(\", mp[k][0], \",\", mp[k][1], \")\")\n",
    "else:\n",
    "    print(\"Not Found\")"
   ]
  },
  {
   "cell_type": "markdown",
   "id": "e630da90-df2c-4343-8b59-096af0da5d6e",
   "metadata": {},
   "source": [
    "Problem 5 :\n",
    "Sorting Strings by Length\n",
    "Write a Python program that takes a list of strings and sorts them based on their length.\n",
    "Input:\n",
    "['apple', 'banana', 'kiwi', 'orange', 'grape']\n",
    "Output:\n",
    "['kiwi', 'grape', 'apple', 'banana', 'orange']"
   ]
  },
  {
   "cell_type": "code",
   "execution_count": 8,
   "id": "b30b7846-3bad-40e7-bf68-e2ac2d90d26a",
   "metadata": {},
   "outputs": [
    {
     "name": "stdout",
     "output_type": "stream",
     "text": [
      "Now it is sorted: ['apple', 'banana', 'grape', 'kiwi', 'orange']\n"
     ]
    }
   ],
   "source": [
    "unsorted_list = ['apple', 'banana', 'kiwi', 'orange', 'grape']\n",
    "unsorted_list.sort()\n",
    "print(\"Now it is sorted:\", unsorted_list)\n"
   ]
  },
  {
   "cell_type": "markdown",
   "id": "29ec32dd-c62f-4d8a-97fd-e669d828e6da",
   "metadata": {},
   "source": [
    "Problem 6 :\n",
    "Implementing the merge sort ( Will be discussed in the class )"
   ]
  },
  {
   "cell_type": "code",
   "execution_count": 9,
   "id": "d6fae05c-9003-497a-b656-293023467610",
   "metadata": {},
   "outputs": [
    {
     "name": "stdout",
     "output_type": "stream",
     "text": [
      "Given array is\n",
      "12 11 13 5 6 7 \n",
      "\n",
      "Sorted array is \n",
      "5 6 7 11 12 13 \n"
     ]
    }
   ],
   "source": [
    "def mergeSort(arr):\n",
    "    if len(arr) > 1:\n",
    " \n",
    "         # Finding the mid of the array\n",
    "        mid = len(arr)//2\n",
    " \n",
    "        # Dividing the array elements\n",
    "        L = arr[:mid]\n",
    " \n",
    "        # Into 2 halves\n",
    "        R = arr[mid:]\n",
    " \n",
    "        # Sorting the first half\n",
    "        mergeSort(L)\n",
    " \n",
    "        # Sorting the second half\n",
    "        mergeSort(R)\n",
    " \n",
    "        i = j = k = 0\n",
    " \n",
    "        # Copy data to temp arrays L[] and R[]\n",
    "        while i < len(L) and j < len(R):\n",
    "            if L[i] <= R[j]:\n",
    "                arr[k] = L[i]\n",
    "                i += 1\n",
    "            else:\n",
    "                arr[k] = R[j]\n",
    "                j += 1\n",
    "            k += 1\n",
    " \n",
    "        # Checking if any element was left\n",
    "        while i < len(L):\n",
    "            arr[k] = L[i]\n",
    "            i += 1\n",
    "            k += 1\n",
    " \n",
    "        while j < len(R):\n",
    "            arr[k] = R[j]\n",
    "            j += 1\n",
    "            k += 1\n",
    " \n",
    " \n",
    "# Code to print the list\n",
    "def printList(arr):\n",
    "    for i in range(len(arr)):\n",
    "        print(arr[i], end=\" \")\n",
    "    print()\n",
    " \n",
    " \n",
    "# Driver Code\n",
    "if __name__ == '__main__':\n",
    "    arr = [12, 11, 13, 5, 6, 7]\n",
    "    print(\"Given array is\")\n",
    "    printList(arr)\n",
    "    mergeSort(arr)\n",
    "    print(\"\\nSorted array is \")\n",
    "    printList(arr)"
   ]
  },
  {
   "cell_type": "markdown",
   "id": "b80321f0-f82a-4599-b9b5-fe70807c42a8",
   "metadata": {},
   "source": [
    "Problem 7 :\n",
    "Implementing the quick sort ( will be discussed in the class )"
   ]
  },
  {
   "cell_type": "code",
   "execution_count": 10,
   "id": "b037367f-8adf-45f7-bfe9-a9cfdb408b85",
   "metadata": {},
   "outputs": [
    {
     "name": "stdout",
     "output_type": "stream",
     "text": [
      "Sorted array:\n",
      "1 5 7 8 9 10 "
     ]
    }
   ],
   "source": [
    "def partition(array, low, high):\n",
    "\n",
    "    # Choose the rightmost element as pivot\n",
    "    pivot = array[high]\n",
    "\n",
    "    # Pointer for greater element\n",
    "    i = low - 1\n",
    "\n",
    "    # Traverse through all elements\n",
    "    # compare each element with pivot\n",
    "    for j in range(low, high):\n",
    "        if array[j] <= pivot:\n",
    "\n",
    "            # If element smaller than pivot is found\n",
    "            # swap it with the greater element pointed by i\n",
    "            i = i + 1\n",
    "\n",
    "            # Swapping element at i with element at j\n",
    "            (array[i], array[j]) = (array[j], array[i])\n",
    "\n",
    "    # Swap the pivot element with\n",
    "    # the greater element specified by i\n",
    "    (array[i + 1], array[high]) = (array[high], array[i + 1])\n",
    "\n",
    "    # Return the position from where partition is done\n",
    "    return i + 1\n",
    "\n",
    "\n",
    "# Function to perform quicksort\n",
    "def quicksort(array, low, high):\n",
    "    if low < high:\n",
    "\n",
    "        # Find pivot element such that\n",
    "        # element smaller than pivot are on the left\n",
    "        # element greater than pivot are on the right\n",
    "        pi = partition(array, low, high)\n",
    "\n",
    "        # Recursive call on the left of pivot\n",
    "        quicksort(array, low, pi - 1)\n",
    "\n",
    "        # Recursive call on the right of pivot\n",
    "        quicksort(array, pi + 1, high)\n",
    "\n",
    "\n",
    "# Driver code\n",
    "if __name__ == '__main__':\n",
    "    array = [10, 7, 8, 9, 1, 5]\n",
    "    N = len(array)\n",
    "\n",
    "    # Function call\n",
    "    quicksort(array, 0, N - 1)\n",
    "    print('Sorted array:')\n",
    "    for x in array:\n",
    "        print(x, end=\" \")"
   ]
  },
  {
   "cell_type": "markdown",
   "id": "da9e827a-87f5-4061-a611-77ff758128f3",
   "metadata": {},
   "source": [
    "Problem 8 :\n",
    "Implementing the count sort ( will be discussed in the class )"
   ]
  },
  {
   "cell_type": "code",
   "execution_count": 11,
   "id": "b2a9dc21-7886-4d6f-9ee0-0ff60fcf51dc",
   "metadata": {},
   "outputs": [
    {
     "name": "stdout",
     "output_type": "stream",
     "text": [
      "1 3 3 4 5 5 9 12 "
     ]
    }
   ],
   "source": [
    "\n",
    "def count_sort(input_array):\n",
    "    # Finding the maximum element of input_array.\n",
    "    M = max(input_array)\n",
    " \n",
    "    # Initializing count_array with 0\n",
    "    count_array = [0] * (M + 1)\n",
    " \n",
    "    # Mapping each element of input_array as an index of count_array\n",
    "    for num in input_array:\n",
    "        count_array[num] += 1\n",
    " \n",
    "    # Calculating prefix sum at every index of count_array\n",
    "    for i in range(1, M + 1):\n",
    "        count_array[i] += count_array[i - 1]\n",
    " \n",
    "    # Creating output_array from count_array\n",
    "    output_array = [0] * len(input_array)\n",
    " \n",
    "    for i in range(len(input_array) - 1, -1, -1):\n",
    "        output_array[count_array[input_array[i]] - 1] = input_array[i]\n",
    "        count_array[input_array[i]] -= 1\n",
    " \n",
    "    return output_array\n",
    " \n",
    "# Driver code\n",
    "if __name__ == \"__main__\":\n",
    "    # Input array\n",
    "    input_array = [4, 3, 12, 1, 5, 5, 3, 9]\n",
    " \n",
    "    # Output array\n",
    "    output_array = count_sort(input_array)\n",
    " \n",
    "    for num in output_array:\n",
    "        print(num, end=\" \")\n"
   ]
  },
  {
   "cell_type": "markdown",
   "id": "902554dc-49f1-47c1-878e-435e3c28ddde",
   "metadata": {},
   "source": [
    "Problem 9 :\n",
    "Implement a Python function to find a peak element in an array. A peak element is an element that is greater\n",
    "than or equal to its neighbors.\n",
    "Input:\n",
    "[1, 3, 20, 4, 1, 0]\n",
    "Output:\n",
    "Peak element is 20"
   ]
  },
  {
   "cell_type": "code",
   "execution_count": 12,
   "id": "39314c5f-c125-446e-94d6-972abee24d22",
   "metadata": {},
   "outputs": [
    {
     "name": "stdout",
     "output_type": "stream",
     "text": [
      "Index of a peak point is 2\n"
     ]
    }
   ],
   "source": [
    "def findPeak(arr, n) :\n",
    " \n",
    "    # first or last element is peak element\n",
    "    if (n == 1) :\n",
    "      return 0\n",
    "    if (arr[0] >= arr[1]) :\n",
    "        return 0\n",
    "    if (arr[n - 1] >= arr[n - 2]) :\n",
    "        return n - 1\n",
    "  \n",
    "    # check for every other element\n",
    "    for i in range(1, n - 1) :\n",
    "  \n",
    "        # check if the neighbors are smaller\n",
    "        if (arr[i] >= arr[i - 1] and arr[i] >= arr[i + 1]) :\n",
    "            return i\n",
    "             \n",
    "# Driver code.\n",
    "arr = [ 1, 3, 20, 4, 1, 0 ]\n",
    "n = len(arr)\n",
    "print(\"Index of a peak point is\", findPeak(arr, n))"
   ]
  },
  {
   "cell_type": "markdown",
   "id": "f289ea93-b2f4-48ed-bcc0-a645c7190768",
   "metadata": {},
   "source": [
    "Problem 10 :\n",
    "Search in a Nearly Sorted Array\n",
    "Implement a Python program to perform a binary search in a nearly sorted array. In a nearly sorted array, each\n",
    "element is at most k positions away from its sorted position.\n",
    "Input:\n",
    "[2, 1, 3, 4, 6, 5, 7], k = 1\n",
    "Output:\n",
    "Element 5 found at index 4"
   ]
  },
  {
   "cell_type": "code",
   "execution_count": 13,
   "id": "9eee5959-3529-4d8a-aba9-0627c831a848",
   "metadata": {},
   "outputs": [],
   "source": [
    "def insertionSort(A, size):\n",
    "    i, key, j = 0, 0, 0\n",
    "    for i in range(size):\n",
    "        key = A[i]\n",
    "        j = i-1\n",
    " \n",
    "        # Move elements of A[0..i-1], that are\n",
    "        # greater than key, to one position\n",
    "        # ahead of their current position.\n",
    "        # This loop will run at most k times\n",
    "        while j >= 0 and A[j] > key:\n",
    "            A[j + 1] = A[j]\n",
    "            j = j - 1\n",
    "        A[j + 1] = key"
   ]
  },
  {
   "cell_type": "code",
   "execution_count": null,
   "id": "dab3e6ec-7fa0-499e-909c-0a0f336f6cd2",
   "metadata": {},
   "outputs": [],
   "source": []
  }
 ],
 "metadata": {
  "kernelspec": {
   "display_name": "Python 3 (ipykernel)",
   "language": "python",
   "name": "python3"
  },
  "language_info": {
   "codemirror_mode": {
    "name": "ipython",
    "version": 3
   },
   "file_extension": ".py",
   "mimetype": "text/x-python",
   "name": "python",
   "nbconvert_exporter": "python",
   "pygments_lexer": "ipython3",
   "version": "3.10.8"
  }
 },
 "nbformat": 4,
 "nbformat_minor": 5
}
